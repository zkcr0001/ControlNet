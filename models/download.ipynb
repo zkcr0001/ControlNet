{
 "cells": [
  {
   "cell_type": "code",
   "execution_count": 2,
   "id": "2c25af0b-fc60-46b3-9040-15ebcfff50fb",
   "metadata": {},
   "outputs": [],
   "source": [
    "import requests"
   ]
  },
  {
   "cell_type": "code",
   "execution_count": 3,
   "id": "f66277e7-dc98-46ba-a0a4-e89a15d3959b",
   "metadata": {},
   "outputs": [],
   "source": [
    "url = 'https://huggingface.co/runwayml/stable-diffusion-v1-5/resolve/main/v1-5-pruned.ckpt'\n",
    "r = requests.get(url, allow_redirects=True)"
   ]
  },
  {
   "cell_type": "code",
   "execution_count": 4,
   "id": "6a341da2-b1a8-46a9-843b-4d395a6f2f40",
   "metadata": {},
   "outputs": [
    {
     "data": {
      "text/plain": [
       "7703807346"
      ]
     },
     "execution_count": 4,
     "metadata": {},
     "output_type": "execute_result"
    }
   ],
   "source": [
    "open('v1-5-pruned.ckpt', 'wb').write(r.content)"
   ]
  },
  {
   "cell_type": "code",
   "execution_count": 3,
   "id": "c8439206-987a-43b8-a00d-928213effc7e",
   "metadata": {},
   "outputs": [
    {
     "data": {
      "text/plain": [
       "5710753329"
      ]
     },
     "execution_count": 3,
     "metadata": {},
     "output_type": "execute_result"
    }
   ],
   "source": [
    "url = 'https://huggingface.co/lllyasviel/ControlNet/resolve/main/models/control_sd15_canny.pth'\n",
    "r = requests.get(url, allow_redirects=True)\n",
    "open('control_sd15_canny.pth', 'wb').write(r.content)"
   ]
  },
  {
   "cell_type": "code",
   "execution_count": null,
   "id": "821f2606-2c65-4012-ac75-99e5f9864fca",
   "metadata": {},
   "outputs": [],
   "source": []
  }
 ],
 "metadata": {
  "kernelspec": {
   "display_name": "Python 3 (ipykernel)",
   "language": "python",
   "name": "python3"
  },
  "language_info": {
   "codemirror_mode": {
    "name": "ipython",
    "version": 3
   },
   "file_extension": ".py",
   "mimetype": "text/x-python",
   "name": "python",
   "nbconvert_exporter": "python",
   "pygments_lexer": "ipython3",
   "version": "3.10.9"
  }
 },
 "nbformat": 4,
 "nbformat_minor": 5
}
